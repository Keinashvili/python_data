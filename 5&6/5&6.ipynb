{
 "cells": [
  {
   "cell_type": "markdown",
   "source": [
    "#1"
   ],
   "metadata": {
    "collapsed": false
   },
   "id": "c20d906a163cc26f"
  },
  {
   "cell_type": "code",
   "execution_count": null,
   "outputs": [],
   "source": [
    "import pandas as pd\n",
    "from sklearn.linear_model import LinearRegression\n",
    "from sklearn.metrics import r2_score, mean_squared_error\n",
    "import matplotlib.pyplot as plt\n",
    "\n",
    "data = pd.read_csv('Salary_Data.csv')\n",
    "\n",
    "X = data['YearsExperience'].values.reshape(-1, 1)  \n",
    "y = data['Salary'].values  \n",
    "\n",
    "model = LinearRegression()\n",
    "\n",
    "model.fit(X, y)\n",
    "\n",
    "predicted_y = model.predict(X)\n",
    "\n",
    "r2 = r2_score(y, predicted_y)\n",
    "print(f\"R-squared score: {r2}\")\n",
    "\n",
    "mse = mean_squared_error(y, predicted_y)\n",
    "print(f\"Mean Squared Error: {mse}\")\n",
    "\n",
    "# Plotting\n",
    "plt.scatter(X, y, color='blue', label='Actual data')\n",
    "plt.plot(X, predicted_y, color='red', label='Linear regression')\n",
    "plt.xlabel('Years of Experience')\n",
    "plt.ylabel('Salary')\n",
    "plt.legend()\n",
    "plt.title('Linear Regression Example')\n",
    "plt.show()\n"
   ],
   "metadata": {
    "collapsed": false
   },
   "id": "31a42bb3f3f2af92"
  },
  {
   "cell_type": "markdown",
   "source": [
    "#2"
   ],
   "metadata": {
    "collapsed": false
   },
   "id": "efbba9d42e69b927"
  },
  {
   "cell_type": "code",
   "execution_count": null,
   "outputs": [],
   "source": [
    "import pandas as pd\n",
    "from sklearn.linear_model import LinearRegression\n",
    "from sklearn.metrics import r2_score, mean_squared_error\n",
    "\n",
    "data = pd.read_csv('Salary_Data.csv') \n",
    "\n",
    "X = data[['YearsExperience']]  # Input feature\n",
    "y = data['Salary'] \n",
    "\n",
    "X['YearsExperience_squared'] = X['YearsExperience'] ** 2  \n",
    "\n",
    "model = LinearRegression()\n",
    "\n",
    "model.fit(X, y)\n",
    "\n",
    "predicted_y = model.predict(X)\n",
    "\n",
    "r2 = r2_score(y, predicted_y)\n",
    "print(f\"R-squared score: {r2}\")\n",
    "\n",
    "mse = mean_squared_error(y, predicted_y)\n",
    "print(f\"Mean Squared Error: {mse}\")"
   ],
   "metadata": {
    "collapsed": false
   },
   "id": "e55ddc524694e5d2"
  },
  {
   "cell_type": "markdown",
   "source": [
    "#3"
   ],
   "metadata": {
    "collapsed": false
   },
   "id": "17477f655fc7c154"
  },
  {
   "cell_type": "code",
   "execution_count": null,
   "outputs": [],
   "source": [
    "import pandas as pd\n",
    "from sklearn.model_selection import train_test_split\n",
    "from sklearn.tree import DecisionTreeRegressor\n",
    "from sklearn.metrics import r2_score, mean_squared_error\n",
    "\n",
    "data = pd.read_csv('petrol_consumption.csv')\n",
    "\n",
    "X = data[['petrol_tax', 'Average_income', 'Paved_Highways', 'Population_Driver_licence(%)']]\n",
    "y = data['Petrol_Consumption']\n",
    "\n",
    "X_train, X_test, y_train, y_test = train_test_split(X, y, test_size=0.2, random_state=42)\n",
    "\n",
    "model = DecisionTreeRegressor(random_state=42)\n",
    "\n",
    "model.fit(X_train, y_train)\n",
    "\n",
    "predicted_y = model.predict(X_test)\n",
    "\n",
    "r2 = r2_score(y_test, predicted_y)\n",
    "print(f\"R-squared score: {r2}\")\n",
    "\n",
    "mse = mean_squared_error(y_test, predicted_y)\n",
    "print(f\"Mean Squared Error: {mse}\")"
   ],
   "metadata": {
    "collapsed": false
   },
   "id": "3291e3a7b6bf0664"
  },
  {
   "cell_type": "markdown",
   "source": [
    "#4"
   ],
   "metadata": {
    "collapsed": false
   },
   "id": "d245920ada9a83ee"
  },
  {
   "cell_type": "code",
   "execution_count": null,
   "outputs": [],
   "source": [
    "import pandas as pd\n",
    "from sklearn.model_selection import train_test_split\n",
    "from sklearn.linear_model import LogisticRegression\n",
    "from sklearn.metrics import accuracy_score, classification_report\n",
    "\n",
    "data = pd.read_csv('petrol_consumption.csv')\n",
    "\n",
    "X = data[['petrol_tax', 'Average_income', 'Paved_Highways', 'Population_Driver_licence(%)']]\n",
    "y = data['High_Consumption']\n",
    "\n",
    "X_train, X_test, y_train, y_test = train_test_split(X, y, test_size=0.2, random_state=42)\n",
    "\n",
    "model = LogisticRegression(random_state=42)\n",
    "\n",
    "model.fit(X_train, y_train)\n",
    "\n",
    "predicted_y = model.predict(X_test)\n",
    "\n",
    "accuracy = accuracy_score(y_test, predicted_y)\n",
    "print(f\"Accuracy: {accuracy}\")\n",
    "\n",
    "report = classification_report(y_test, predicted_y)\n",
    "print(\"Classification Report:\")\n",
    "print(report)"
   ],
   "metadata": {
    "collapsed": false
   },
   "id": "72e98f3ee263cda8"
  },
  {
   "cell_type": "markdown",
   "source": [
    "#5"
   ],
   "metadata": {
    "collapsed": false
   },
   "id": "616098268002673"
  },
  {
   "cell_type": "code",
   "execution_count": null,
   "outputs": [],
   "source": [
    "import pandas as pd\n",
    "from sklearn.model_selection import train_test_split\n",
    "from sklearn.tree import DecisionTreeClassifier\n",
    "from sklearn.metrics import accuracy_score, classification_report\n",
    "\n",
    "data = pd.read_csv('your_file.csv')\n",
    "\n",
    "X = data[['petrol_tax', 'Average_income', 'Paved_Highways', 'Population_Driver_licence(%)']]\n",
    "y = data['High_Consumption']\n",
    "\n",
    "X_train, X_test, y_train, y_test = train_test_split(X, y, test_size=0.2, random_state=42)\n",
    "\n",
    "model = DecisionTreeClassifier(random_state=42)\n",
    "\n",
    "model.fit(X_train, y_train)\n",
    "\n",
    "predicted_y = model.predict(X_test)\n",
    "\n",
    "accuracy = accuracy_score(y_test, predicted_y)\n",
    "print(f\"Accuracy: {accuracy}\")\n",
    "\n",
    "report = classification_report(y_test, predicted_y)\n",
    "print(\"Classification Report:\")\n",
    "print(report)"
   ],
   "metadata": {
    "collapsed": false
   },
   "id": "fc905d29e32fc190"
  }
 ],
 "metadata": {
  "kernelspec": {
   "display_name": "Python 3",
   "language": "python",
   "name": "python3"
  },
  "language_info": {
   "codemirror_mode": {
    "name": "ipython",
    "version": 2
   },
   "file_extension": ".py",
   "mimetype": "text/x-python",
   "name": "python",
   "nbconvert_exporter": "python",
   "pygments_lexer": "ipython2",
   "version": "2.7.6"
  }
 },
 "nbformat": 4,
 "nbformat_minor": 5
}
