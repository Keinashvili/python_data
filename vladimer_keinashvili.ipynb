{
 "cells": [
  {
   "cell_type": "code",
   "execution_count": 1,
   "metadata": {},
   "outputs": [
    {
     "ename": "ModuleNotFoundError",
     "evalue": "No module named 'pandas'",
     "output_type": "error",
     "traceback": [
      "\u001b[0;31m---------------------------------------------------------------------------\u001b[0m",
      "\u001b[0;31mModuleNotFoundError\u001b[0m                       Traceback (most recent call last)",
      "\u001b[1;32m/Users/vladimerkeinashvili/Desktop/python/3&4/vladimer_keinashvili.ipynb Cell 1\u001b[0m line \u001b[0;36m3\n\u001b[1;32m      <a href='vscode-notebook-cell:/Users/vladimerkeinashvili/Desktop/python/3%264/vladimer_keinashvili.ipynb#W0sZmlsZQ%3D%3D?line=0'>1</a>\u001b[0m \u001b[39m#1\u001b[39;00m\n\u001b[0;32m----> <a href='vscode-notebook-cell:/Users/vladimerkeinashvili/Desktop/python/3%264/vladimer_keinashvili.ipynb#W0sZmlsZQ%3D%3D?line=2'>3</a>\u001b[0m \u001b[39mimport\u001b[39;00m \u001b[39mpandas\u001b[39;00m \u001b[39mas\u001b[39;00m \u001b[39mpd\u001b[39;00m\n\u001b[1;32m      <a href='vscode-notebook-cell:/Users/vladimerkeinashvili/Desktop/python/3%264/vladimer_keinashvili.ipynb#W0sZmlsZQ%3D%3D?line=4'>5</a>\u001b[0m df \u001b[39m=\u001b[39m pd\u001b[39m.\u001b[39mread_csv(\u001b[39m'\u001b[39m\u001b[39mEarthquakes_databases.csv\u001b[39m\u001b[39m'\u001b[39m)\n",
      "\u001b[0;31mModuleNotFoundError\u001b[0m: No module named 'pandas'"
     ]
    }
   ],
   "source": [
    "#1\n",
    "\n",
    "import pandas as pd\n",
    "\n",
    "df = pd.read_csv('Earthquakes_databases.csv')\n",
    "\n",
    "df.drop(columns = \"Depth Error\")\n",
    "\n",
    "df['date_time'] = pd.concat([df['Date'], df['Time']])\n",
    "\n"
   ]
  },
  {
   "cell_type": "code",
   "execution_count": 2,
   "metadata": {},
   "outputs": [
    {
     "ename": "ModuleNotFoundError",
     "evalue": "No module named 'pandas'",
     "output_type": "error",
     "traceback": [
      "\u001b[0;31m---------------------------------------------------------------------------\u001b[0m",
      "\u001b[0;31mModuleNotFoundError\u001b[0m                       Traceback (most recent call last)",
      "\u001b[1;32m/Users/vladimerkeinashvili/Desktop/python/3&4/vladimer_keinashvili.ipynb Cell 2\u001b[0m line \u001b[0;36m3\n\u001b[1;32m      <a href='vscode-notebook-cell:/Users/vladimerkeinashvili/Desktop/python/3%264/vladimer_keinashvili.ipynb#W1sZmlsZQ%3D%3D?line=0'>1</a>\u001b[0m \u001b[39m#3 \u001b[39;00m\n\u001b[0;32m----> <a href='vscode-notebook-cell:/Users/vladimerkeinashvili/Desktop/python/3%264/vladimer_keinashvili.ipynb#W1sZmlsZQ%3D%3D?line=2'>3</a>\u001b[0m \u001b[39mimport\u001b[39;00m \u001b[39mpandas\u001b[39;00m \u001b[39mas\u001b[39;00m \u001b[39mpd\u001b[39;00m\n\u001b[1;32m      <a href='vscode-notebook-cell:/Users/vladimerkeinashvili/Desktop/python/3%264/vladimer_keinashvili.ipynb#W1sZmlsZQ%3D%3D?line=4'>5</a>\u001b[0m df \u001b[39m=\u001b[39m pd\u001b[39m.\u001b[39mread_csv(\u001b[39m'\u001b[39m\u001b[39mEarthquakes_databases.csv\u001b[39m\u001b[39m'\u001b[39m)\n\u001b[1;32m      <a href='vscode-notebook-cell:/Users/vladimerkeinashvili/Desktop/python/3%264/vladimer_keinashvili.ipynb#W1sZmlsZQ%3D%3D?line=6'>7</a>\u001b[0m df_stacked\u001b[39m=\u001b[39mdf\u001b[39m.\u001b[39mstack()\n",
      "\u001b[0;31mModuleNotFoundError\u001b[0m: No module named 'pandas'"
     ]
    }
   ],
   "source": [
    "#3 \n",
    "\n",
    "import pandas as pd\n",
    "\n",
    "df = pd.read_csv('Earthquakes_databases.csv')\n",
    "\n",
    "df_stacked=df.stack()\n",
    "df_stacked\n",
    "\n",
    "df_stacked.unstack()\n",
    "\n"
   ]
  },
  {
   "cell_type": "code",
   "execution_count": 3,
   "metadata": {},
   "outputs": [
    {
     "ename": "ModuleNotFoundError",
     "evalue": "No module named 'matplotlib'",
     "output_type": "error",
     "traceback": [
      "\u001b[0;31m---------------------------------------------------------------------------\u001b[0m",
      "\u001b[0;31mModuleNotFoundError\u001b[0m                       Traceback (most recent call last)",
      "\u001b[1;32m/Users/vladimerkeinashvili/Desktop/python/3&4/vladimer_keinashvili.ipynb Cell 3\u001b[0m line \u001b[0;36m1\n\u001b[0;32m----> <a href='vscode-notebook-cell:/Users/vladimerkeinashvili/Desktop/python/3%264/vladimer_keinashvili.ipynb#W2sZmlsZQ%3D%3D?line=0'>1</a>\u001b[0m \u001b[39mimport\u001b[39;00m \u001b[39mmatplotlib\u001b[39;00m\u001b[39m.\u001b[39;00m\u001b[39mpyplot\u001b[39;00m \u001b[39mas\u001b[39;00m \u001b[39mplt\u001b[39;00m\n\u001b[1;32m      <a href='vscode-notebook-cell:/Users/vladimerkeinashvili/Desktop/python/3%264/vladimer_keinashvili.ipynb#W2sZmlsZQ%3D%3D?line=1'>2</a>\u001b[0m \u001b[39mimport\u001b[39;00m \u001b[39mnumpy\u001b[39;00m \u001b[39mas\u001b[39;00m \u001b[39mnp\u001b[39;00m\n\u001b[1;32m      <a href='vscode-notebook-cell:/Users/vladimerkeinashvili/Desktop/python/3%264/vladimer_keinashvili.ipynb#W2sZmlsZQ%3D%3D?line=3'>4</a>\u001b[0m \u001b[39m# Fixing random state for reproducibility\u001b[39;00m\n\u001b[1;32m      <a href='vscode-notebook-cell:/Users/vladimerkeinashvili/Desktop/python/3%264/vladimer_keinashvili.ipynb#W2sZmlsZQ%3D%3D?line=4'>5</a>\u001b[0m \u001b[39m# np.random.seed(19680801)\u001b[39;00m\n",
      "\u001b[0;31mModuleNotFoundError\u001b[0m: No module named 'matplotlib'"
     ]
    }
   ],
   "source": [
    "#4 გაფანტულობის დიაგრამა\n",
    "\n",
    "import matplotlib.pyplot as plt\n",
    "import numpy as np\n",
    "\n",
    "x = np.random.random(50)*100\n",
    "y = np.random.random(50)*100\n",
    "z = np.random.random(50)*100\n",
    "\n",
    "plt.scatter(x, y, s=20, marker='^', c='red')\n",
    "plt.scatter(x, z, s=20, marker='*', c='blue')\n",
    "\n",
    "plt.show()\n",
    "\n",
    "# ხაზოვანი დიაგრამა\n",
    "\n",
    "plt=reload(plt)\n",
    "years = [2006 + x for x in range(16)]\n",
    "income = [670, 742, 829, 872, 561, 434, 656, 682,\n",
    "         801, 840, 809, 905, 657, 566, 773, 651\n",
    "        ]\n",
    "\n",
    "\n",
    "income_ticks = list(range(400, 1000, 200))\n",
    "plt.plot(years, income, 'g')\n",
    "\n",
    "plt.xlabel('Years')  \n",
    "plt.ylabel('Yearly income')  \n",
    "plt.yticks(income_ticks, [f'${x}K' for x in income_ticks])\n",
    "  \n",
    "plt.title(\"Income by year\")\n",
    "\n",
    "\n",
    "plt.show() \n",
    "\n",
    "#  ხაზოვანი დიაგრამა\n",
    "\n",
    "x = ['მონაცემი1', 'მონაცემი2', \"მონაცემი3\", 'მონაცემი3', 'მონაცემი4']\n",
    "y = [24, 14, 85, 220, 150]\n",
    "plt.bar(x, y, color='r', width=0.5, edgecolor='b', lw=3, ls='--')\n",
    "plt.show()\n",
    "\n",
    "# წრიული დიაგრამა\n",
    "\n",
    "data = ['მონაცემი1', 'მონაცემი2', \"მონაცემი3\", 'მონაცემი3', 'მონაცემი4']\n",
    "votes = [135, 112, 85, 24, 75]\n",
    "explode = [0.1, 0, 0, 0, 0]\n",
    "plt.pie(votes, labels=data, autopct='%0.f%%', explode=explode)\n",
    "plt.show()\n",
    "\n"
   ]
  },
  {
   "cell_type": "code",
   "execution_count": null,
   "metadata": {},
   "outputs": [],
   "source": []
  }
 ],
 "metadata": {
  "kernelspec": {
   "display_name": "Python 3",
   "language": "python",
   "name": "python3"
  },
  "language_info": {
   "codemirror_mode": {
    "name": "ipython",
    "version": 3
   },
   "file_extension": ".py",
   "mimetype": "text/x-python",
   "name": "python",
   "nbconvert_exporter": "python",
   "pygments_lexer": "ipython3",
   "version": "3.12.1"
  }
 },
 "nbformat": 4,
 "nbformat_minor": 2
}
